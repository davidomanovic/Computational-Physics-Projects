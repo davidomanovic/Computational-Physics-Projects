{
 "cells": [
  {
   "cell_type": "markdown",
   "metadata": {},
   "source": [
    "Vectorized operations:\n",
    "Generate $1000 \\times 1000$ matrix of random integers between 0 and 19."
   ]
  },
  {
   "cell_type": "code",
   "execution_count": 29,
   "metadata": {},
   "outputs": [
    {
     "name": "stdout",
     "output_type": "stream",
     "text": [
      "[[13.  4. 19. ... 10. 19.  1.]\n",
      " [ 4. 11.  6. ...  6.  0.  9.]\n",
      " [14. 13. 17. ...  4. 12. 13.]\n",
      " ...\n",
      " [ 1. 13. 11. ...  2. 13. 16.]\n",
      " [ 9.  4. 12. ...  5. 16. 12.]\n",
      " [11.  0.  9. ...  7.  6. 12.]]\n"
     ]
    }
   ],
   "source": [
    "import numpy as np\n",
    "import random as rand\n",
    "import timeit\n",
    "\n",
    "N = 1000\n",
    "random_matrix = np.zeros((N, N))\n",
    "\n",
    "for i in range(len(random_matrix)):\n",
    "    for j in range(len(random_matrix)):\n",
    "        random_matrix[i][j] = rand.randint(0,19)\n",
    "\n",
    "print(random_matrix)"
   ]
  },
  {
   "cell_type": "markdown",
   "metadata": {},
   "source": [
    "Using the library \"random\", gives a tremendous speedup in performance compared to numpy.random.randint."
   ]
  },
  {
   "cell_type": "markdown",
   "metadata": {},
   "source": [
    "Compute the sum of all diagonal elements with for loop."
   ]
  },
  {
   "cell_type": "code",
   "execution_count": 40,
   "metadata": {},
   "outputs": [
    {
     "name": "stdout",
     "output_type": "stream",
     "text": [
      "9419\n"
     ]
    }
   ],
   "source": [
    "def trace_forloop(random_matrix):\n",
    "    sum_diagonal = 0\n",
    "    for i in range(len(random_matrix)):\n",
    "        sum_diagonal += random_matrix[i][i] \n",
    "    return int(sum_diagonal)\n",
    "\n",
    "print(trace_forloop(random_matrix))"
   ]
  },
  {
   "cell_type": "markdown",
   "metadata": {},
   "source": [
    "Compute the sum of all diagonal elements with NumPy linear algebra function"
   ]
  },
  {
   "cell_type": "code",
   "execution_count": 31,
   "metadata": {},
   "outputs": [
    {
     "name": "stdout",
     "output_type": "stream",
     "text": [
      "9419\n"
     ]
    }
   ],
   "source": [
    "trace = np.trace(random_matrix, dtype = int)\n",
    "print(trace)"
   ]
  },
  {
   "cell_type": "markdown",
   "metadata": {},
   "source": [
    "Comparing the for-loop and np.trace performance:\n",
    "with %%timeit"
   ]
  },
  {
   "cell_type": "code",
   "execution_count": 42,
   "metadata": {},
   "outputs": [
    {
     "name": "stdout",
     "output_type": "stream",
     "text": [
      "26.8 ms ± 1.49 ms per loop (mean ± std. dev. of 7 runs, 10 loops each)\n",
      "392 µs ± 21.2 µs per loop (mean ± std. dev. of 7 runs, 1,000 loops each)\n"
     ]
    }
   ],
   "source": [
    "%timeit for x in range(100): trace_forloop(random_matrix)\n",
    "%timeit for x in range(100): np.trace(random_matrix)"
   ]
  },
  {
   "cell_type": "markdown",
   "metadata": {},
   "source": [
    "np.trace is clearly faster."
   ]
  }
 ],
 "metadata": {
  "kernelspec": {
   "display_name": "Python 3",
   "language": "python",
   "name": "python3"
  },
  "language_info": {
   "codemirror_mode": {
    "name": "ipython",
    "version": 3
   },
   "file_extension": ".py",
   "mimetype": "text/x-python",
   "name": "python",
   "nbconvert_exporter": "python",
   "pygments_lexer": "ipython3",
   "version": "3.12.6"
  }
 },
 "nbformat": 4,
 "nbformat_minor": 2
}
