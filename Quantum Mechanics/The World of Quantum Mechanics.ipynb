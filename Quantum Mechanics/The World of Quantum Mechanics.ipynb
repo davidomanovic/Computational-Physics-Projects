{
 "cells": [
  {
   "cell_type": "markdown",
   "metadata": {},
   "source": [
    "# TFY4325/FY8904: Computational Physics (spring 2024)\n",
    "## Assignment 2: The World of Quantum Mechanics"
   ]
  },
  {
   "cell_type": "markdown",
   "metadata": {},
   "source": [
    "In this assignment we will study three different quantum mechanical systems, described by onedimensional Schrödinger equations. \n",
    "\n",
    "The first problem is the simple and well-known particle in a box, where we focus on scaling to dimensionless equations and comparing computational results to the exact\n",
    "ones. \n",
    "\n",
    "The second problem describes a particle in a box with a potential barrier, where we do not have\n",
    "many analytical results. \n",
    "\n",
    "In the third problem we learn how we can study a simple time-dependent quantum mechanical\n",
    "platform. By considering a time-dependent Schr¨odinger equation for oscillating adjacent quantum wells\n",
    "we find a time-dependent wavefunction that result in an integral equation. Finding the time-dependent\n",
    "wavefunction, we predict the evolution of non-interacting particles that might exist in this system."
   ]
  },
  {
   "cell_type": "markdown",
   "metadata": {},
   "source": [
    "# 1. Particle in a box and dimensionless variables"
   ]
  },
  {
   "cell_type": "markdown",
   "metadata": {},
   "source": [
    "The Schrödinger equation reads as follows\n",
    "\n",
    "$$\n",
    "i\\hbar \\frac{\\partial}{\\partial t}\\Psi = \\hat{H}\\Psi\n",
    "\\tag{2.1}\n",
    "$$\n",
    "which is the baseline of quantum mechanics, describing how a system evolves in time given the Hamilationian operator $\\hat{H}$ for the system.\n",
    "\n",
    "Given some initial condition $\\Psi_0(x)=\\Psi(x,t = 0)$, and a time independent Hamiltonian, we get a general solution\n",
    "\n",
    "$$\n",
    "\\Psi = exp(-\\frac{it}{\\hbar}\\hat{H})\\Psi_0 \\tag{2.2}\n",
    "$$\n",
    "\n",
    "with the expontentional of the Hamiltionian being the series expansion. This equation describes the time evoolution of the system, and requires the eigenfunctions $\\psi_n$ of the Hamiltionian for it to be useful. They can be extracted through the time-independent Schrödinger equation\n",
    "\n",
    "$$\n",
    "\\hat{H}\\psi_n = E_n \\psi_n \\tag{2.3}\n",
    "$$\n",
    "\n",
    "$E_n$ being the energy of the state $\\psi_n$.\n",
    "\n",
    "We want to study a single particle with mass $m$ confined in some 2D box with walls at $x=0$, and $x=L$.\n",
    "\n",
    "The boundary conditions required for the wave function when the particle is confined in the box can be found by examining the potential that describes the box\n",
    "\n",
    "$$\n",
    "V(x) = \n",
    "\\begin{cases} \n",
    "0 & \\text{for } 0 < x < L \\\\\n",
    "\\infty & \\text{otherwise}.\n",
    "\\end{cases} \\tag{2.4}\n",
    "$$\n",
    "\n",
    "Given this potential, the boundary conditions are derived from the requirement that the wave function must be continuous and the probability density must be zero at the boundaries of the box. Mathematically, this is expressed as\n",
    "\n",
    "$$\n",
    "\\Psi(x=0, t) = 0, \\Psi(x=L,t)=0\n",
    "$$\n",
    "\n",
    "Further, we can construct the Hamiltonian\n",
    "\n",
    "$$\n",
    "\\hat{H} = -\\frac{\\hbar^2}{2m} \\frac{\\partial^2}{\\partial x^2} + V(x), \\tag{2.5}\n",
    "$$\n",
    "\n",
    "which means that Eqs. (2.1) and (2.3), the time-dependent and time-independent Schrödinger equations, read\n",
    "\n",
    "$$\n",
    "-\\frac{\\hbar^2}{2m} \\frac{\\partial^2 \\Psi}{\\partial x^2} = i\\hbar \\frac{\\partial}{\\partial t} \\Psi \\tag{2.6}\n",
    "$$\n",
    "\n",
    "and inside the box, we have\n",
    "\n",
    "$$\n",
    "-\\frac{\\hbar^2}{2m} \\frac{\\partial^2 \\psi_n}{\\partial x^2} = E_n \\psi_n \\tag{2.7}\n",
    "$$"
   ]
  },
  {
   "cell_type": "markdown",
   "metadata": {},
   "source": [
    "To implement numerical algorithms, we must make the equations dimensionless. We define $t' = t/t_0$ and $x'=x/x_0$, with $t_0$ and $x_0$ being time and position measured in with the new coordinates $t'$ and $x'$. Using the chain rule for differentiation on $\\Psi(x,t'(t))$, we get a relation between $\\frac{\\partial \\Psi}{\\partial t}$ and $\\frac{\\partial \\Psi}{\\partial t'}$.\n",
    "\n",
    "Time derivative:\n",
    "$$\n",
    "\\frac{\\partial}{\\partial t} = \\frac{\\partial t'}{\\partial t} \\frac{\\partial}{\\partial t'} = \\frac{1}{t_0}\\frac{\\partial}{\\partial t'}\n",
    "$$\n",
    "\n",
    "Positional derivative:\n",
    "$$\n",
    "\\frac{\\partial}{\\partial x}= \\frac{\\partial x'}{\\partial x} \\frac{\\partial}{\\partial x'} = \\frac{1}{x_0} \\frac{\\partial}{\\partial x'} \\Rightarrow \\frac{\\partial^2}{\\partial x^2} = \\frac{1}{x_0^2} \\frac{\\partial^2}{\\partial x'^2}\n",
    "$$\n",
    "\n",
    "Plugging the results into Schrödinger equation $(2.6)$, we get\n",
    "\n",
    "$$\n",
    "i\\hbar \\frac{1}{t_0} \\frac{\\partial \\Psi}{\\partial t'} = -\\frac{\\hbar^2}{2m} \\frac{\\partial^2\\Psi}{\\partial x^2}\n",
    "$$\n",
    "\n",
    "Choosing $x_0=L$\n",
    "\n",
    "$$\n",
    "i \\frac{\\hbar}{t_0} \\frac{\\partial \\Psi}{\\partial t'} = -\\frac{\\hbar^2}{2mL^2}\\frac{\\partial^2 \\Psi}{\\partial x'^2}\n",
    "$$\n",
    "\n",
    "We compare both sides and get that $t_0 = 2mL^2/ \\hbar$. We end up with the final dimensionless Schrödinger equation\n",
    "\n",
    "$$\n",
    "i \\frac{\\partial \\Psi}{\\partial t'} = -\\frac{\\partial^2 \\Psi}{\\partial x'^2} \\tag{2.8}\n",
    "$$"
   ]
  },
  {
   "cell_type": "markdown",
   "metadata": {},
   "source": [
    "With our new variables $t'=\\frac{\\hbar}{2mL^2} t$ and $x'=x/L$, we can rewrite the eigenvalue problem in Eq. $(2.7)$ to\n",
    "\n",
    "$$\n",
    "-\\frac{\\partial^2 \\psi_n}{\\partial x'^2} = \\lambda_n \\psi_n \\tag{2.9}\n",
    "$$"
   ]
  },
  {
   "cell_type": "markdown",
   "metadata": {},
   "source": [
    "We also need to consider the fact that we just transformed our variables, and that the boundary conditions are also changed. With $x' = x/L$, we then get\n",
    "\n",
    "$$\n",
    "\\Psi(x'=0, t') = 0, \\Psi(x'=1, t') = 0\n",
    "$$"
   ]
  },
  {
   "cell_type": "markdown",
   "metadata": {},
   "source": []
  },
  {
   "cell_type": "code",
   "execution_count": null,
   "metadata": {},
   "outputs": [],
   "source": []
  }
 ],
 "metadata": {
  "language_info": {
   "name": "python"
  }
 },
 "nbformat": 4,
 "nbformat_minor": 2
}
