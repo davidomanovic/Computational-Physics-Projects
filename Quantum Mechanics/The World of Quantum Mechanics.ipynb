{
 "cells": [
  {
   "cell_type": "markdown",
   "metadata": {},
   "source": [
    "# TFY4325/FY8904: Computational Physics (spring 2024)\n",
    "## Assignment 2: The World of Quantum Mechanics"
   ]
  },
  {
   "cell_type": "markdown",
   "metadata": {},
   "source": [
    "In this assignment we will study three different quantum mechanical systems, described by onedimensional Schrödinger equations. \n",
    "\n",
    "The first problem is the simple and well-known particle in a box, where we focus on scaling to dimensionless equations and comparing computational results to the exact\n",
    "ones. \n",
    "\n",
    "The second problem describes a particle in a box with a potential barrier, where we do not have\n",
    "many analytical results. \n",
    "\n",
    "In the third problem we learn how we can study a simple time-dependent quantum mechanical\n",
    "platform. By considering a time-dependent Schr¨odinger equation for oscillating adjacent quantum wells\n",
    "we find a time-dependent wavefunction that result in an integral equation. Finding the time-dependent\n",
    "wavefunction, we predict the evolution of non-interacting particles that might exist in this system."
   ]
  },
  {
   "cell_type": "markdown",
   "metadata": {},
   "source": [
    "# 1. Particle in a box and dimensionless variables"
   ]
  },
  {
   "cell_type": "markdown",
   "metadata": {},
   "source": [
    "The Schrödinger equation reads as follows\n",
    "\n",
    "$$\n",
    "i\\hbar \\frac{\\partial}{\\partial t}\\Psi = \\hat{H}\\Psi\n",
    "$$\n",
    "which is the baseline of quantum mechanics, describing how a system evolves in time given the Hamilationian operator $\\hat{H}$ for the system.\n",
    "\n",
    "Given some initial condition $\\Psi_0(x)=\\Psi(x,t = 0)$, and a time independent Hamiltonian, we get a general solution\n",
    "\n",
    "$$\n",
    "\\Psi = exp(-\\frac{it}{\\hbar}\\hat{H})\\Psi_0\n",
    "$$\n",
    "\n",
    "with the expontentional of the Hamiltionian being the series expansion. This equation describes the time evoolution of the system, and requires the eigenfunctions $\\psi_n$ of the Hamiltionian for it to be useful. They can be extracted through the time-independent Schrödinger equation\n",
    "\n",
    "$$\n",
    "\\hat{H}\\psi_n = E_n \\psi_n\n",
    "$$\n",
    "\n",
    "$E_n$ being the energy of the state $\\psi_n$.\n",
    "\n",
    "We want to study a single particle with mass $m$ confined in some 2D box with walls at $x=0$, and $x=L$.\n",
    "\n",
    "The boundary conditions required for the wave function when the particle is confined in the box can be seen by the potential that describes the box\n",
    "\n",
    "$$\n",
    "V(x) = \n",
    "$$\n"
   ]
  },
  {
   "cell_type": "code",
   "execution_count": null,
   "metadata": {},
   "outputs": [],
   "source": []
  }
 ],
 "metadata": {
  "language_info": {
   "name": "python"
  }
 },
 "nbformat": 4,
 "nbformat_minor": 2
}
